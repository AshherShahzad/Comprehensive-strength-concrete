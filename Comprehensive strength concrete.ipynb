{
 "cells": [
  {
   "cell_type": "markdown",
   "metadata": {},
   "source": [
    "<b>WORKFLOW :</b>\n",
    "<ol>\n",
    "    <li>Load Data</li>\n",
    "<li>Check Missing Values ( If Exist ; Fill each record with mean of its feature )</li>\n",
    "<li>Split into 50% Training(Samples,Labels) , 30% Test(Samples,Labels) and 20% Validation Data(Samples,Labels).</li>\n",
    "<li>Model : input Layer (No. of features ), 3 hidden layers including 10,8,6 unit & Output Layer with activation function relu/tanh (check by experiment).</li>\n",
    "<li>Compilation Step (Note : Its a Regression problem , select loss , metrics according to it)</li>\n",
    "<li>Train the Model with Epochs (100) and validate it</li>\n",
    "<li>If the model gets overfit tune your model by changing the units , No. of layers , activation function , epochs , add dropout layer or add Regularizer according to the need .</li>\n",
    "<li>Evaluation Step</li>\n",
    "<li>Prediction </li>\n",
    "</ol>"
   ]
  },
  {
   "cell_type": "code",
   "execution_count": 1,
   "metadata": {},
   "outputs": [],
   "source": [
    "import sys #access to system parameters https://docs.python.org/3/library/sys.html\n",
    "import pandas as pd #collection of functions for data processing and analysis modeled after R dataframes with SQL like features\n",
    "import matplotlib #collection of functions for scientific and publication-ready visualization\n",
    "import numpy as np #foundational package for scientific computing\n",
    "import scipy as sp #collection of functions for scientific computing and advance mathematics\n",
    "import IPython \n",
    "from IPython import display #pretty printing of dataframes in Jupyter notebook\n",
    "import sklearn #collection of machine learning algorithms\n",
    "\n",
    "#misc libraries\n",
    "import random\n",
    "import time\n",
    "\n",
    "\n",
    "#ignore warnings\n",
    "import warnings\n",
    "import math"
   ]
  },
  {
   "cell_type": "code",
   "execution_count": 2,
   "metadata": {},
   "outputs": [],
   "source": [
    "#Common Model Algorithms\n",
    "from sklearn import svm, tree, linear_model, neighbors, naive_bayes, ensemble, discriminant_analysis, gaussian_process\n",
    "#from xgboost import XGBClassifier\n",
    "\n",
    "#Common Model Helpers\n",
    "from sklearn.preprocessing import OneHotEncoder, LabelEncoder, MinMaxScaler, LabelBinarizer, MaxAbsScaler, StandardScaler\n",
    "from sklearn.linear_model import LinearRegression\n",
    "from sklearn import feature_selection\n",
    "from sklearn import model_selection\n",
    "from sklearn import metrics\n",
    "\n",
    "#Visualization\n",
    "import matplotlib as mpl\n",
    "import matplotlib.pyplot as plt\n",
    "import matplotlib.pylab as pylab\n",
    "import seaborn as sns\n",
    "#from pandas.tools.plotting import scatter_matrix\n",
    "\n",
    "#Configure Visualization Defaults\n",
    "#%matplotlib inline = show plots in Jupyter Notebook browser\n",
    "%matplotlib inline\n",
    "mpl.style.use('ggplot')\n",
    "sns.set_style('white')\n",
    "pylab.rcParams['figure.figsize'] = 12,8"
   ]
  },
  {
   "cell_type": "code",
   "execution_count": 3,
   "metadata": {},
   "outputs": [],
   "source": [
    "from tensorflow.keras.models import Sequential\n",
    "from tensorflow.keras.layers import Dense\n",
    "from tensorflow.keras.layers import Activation"
   ]
  },
  {
   "cell_type": "code",
   "execution_count": 4,
   "metadata": {},
   "outputs": [],
   "source": [
    "from sklearn.model_selection import train_test_split\n",
    "from sklearn.metrics import r2_score, mean_squared_error\n",
    "from tensorflow.python.keras.layers.normalization import BatchNormalization\n",
    "from tensorflow.keras.optimizers import Adam\n",
    "from tensorflow.keras import backend"
   ]
  },
  {
   "cell_type": "markdown",
   "metadata": {},
   "source": [
    "# 1. Load Data"
   ]
  },
  {
   "cell_type": "code",
   "execution_count": 5,
   "metadata": {},
   "outputs": [
    {
     "name": "stdout",
     "output_type": "stream",
     "text": [
      "<class 'pandas.core.frame.DataFrame'>\n",
      "RangeIndex: 1030 entries, 0 to 1029\n",
      "Data columns (total 9 columns):\n",
      "Cement (component 1)(kg in a m^3 mixture)                1030 non-null float64\n",
      "Blast Furnace Slag (component 2)(kg in a m^3 mixture)    1030 non-null float64\n",
      "Fly Ash (component 3)(kg in a m^3 mixture)               1030 non-null float64\n",
      "Water  (component 4)(kg in a m^3 mixture)                1030 non-null float64\n",
      "Superplasticizer (component 5)(kg in a m^3 mixture)      1030 non-null float64\n",
      "Coarse Aggregate  (component 6)(kg in a m^3 mixture)     1030 non-null float64\n",
      "Fine Aggregate (component 7)(kg in a m^3 mixture)        1030 non-null float64\n",
      "Age (day)                                                1030 non-null int64\n",
      "Concrete compressive strength(MPa, megapascals)          1030 non-null float64\n",
      "dtypes: float64(8), int64(1)\n",
      "memory usage: 72.5 KB\n",
      "None\n"
     ]
    }
   ],
   "source": [
    "concrete_df = pd.read_csv('input/compresive_strength_concrete.csv')\n",
    "print (concrete_df.info())"
   ]
  },
  {
   "cell_type": "markdown",
   "metadata": {},
   "source": [
    "# 2. Check Missing Values ( If Exist ; Fill each record with mean of its feature )"
   ]
  },
  {
   "cell_type": "code",
   "execution_count": 6,
   "metadata": {},
   "outputs": [
    {
     "name": "stdout",
     "output_type": "stream",
     "text": [
      "Concrete data columns with null values:\n",
      " Cement (component 1)(kg in a m^3 mixture)                0\n",
      "Blast Furnace Slag (component 2)(kg in a m^3 mixture)    0\n",
      "Fly Ash (component 3)(kg in a m^3 mixture)               0\n",
      "Water  (component 4)(kg in a m^3 mixture)                0\n",
      "Superplasticizer (component 5)(kg in a m^3 mixture)      0\n",
      "Coarse Aggregate  (component 6)(kg in a m^3 mixture)     0\n",
      "Fine Aggregate (component 7)(kg in a m^3 mixture)        0\n",
      "Age (day)                                                0\n",
      "Concrete compressive strength(MPa, megapascals)          0\n",
      "dtype: int64\n",
      "----------\n"
     ]
    },
    {
     "data": {
      "text/html": [
       "<div>\n",
       "<style scoped>\n",
       "    .dataframe tbody tr th:only-of-type {\n",
       "        vertical-align: middle;\n",
       "    }\n",
       "\n",
       "    .dataframe tbody tr th {\n",
       "        vertical-align: top;\n",
       "    }\n",
       "\n",
       "    .dataframe thead th {\n",
       "        text-align: right;\n",
       "    }\n",
       "</style>\n",
       "<table border=\"1\" class=\"dataframe\">\n",
       "  <thead>\n",
       "    <tr style=\"text-align: right;\">\n",
       "      <th></th>\n",
       "      <th>Cement (component 1)(kg in a m^3 mixture)</th>\n",
       "      <th>Blast Furnace Slag (component 2)(kg in a m^3 mixture)</th>\n",
       "      <th>Fly Ash (component 3)(kg in a m^3 mixture)</th>\n",
       "      <th>Water  (component 4)(kg in a m^3 mixture)</th>\n",
       "      <th>Superplasticizer (component 5)(kg in a m^3 mixture)</th>\n",
       "      <th>Coarse Aggregate  (component 6)(kg in a m^3 mixture)</th>\n",
       "      <th>Fine Aggregate (component 7)(kg in a m^3 mixture)</th>\n",
       "      <th>Age (day)</th>\n",
       "      <th>Concrete compressive strength(MPa, megapascals)</th>\n",
       "    </tr>\n",
       "  </thead>\n",
       "  <tbody>\n",
       "    <tr>\n",
       "      <th>count</th>\n",
       "      <td>1030.000000</td>\n",
       "      <td>1030.000000</td>\n",
       "      <td>1030.000000</td>\n",
       "      <td>1030.000000</td>\n",
       "      <td>1030.000000</td>\n",
       "      <td>1030.000000</td>\n",
       "      <td>1030.000000</td>\n",
       "      <td>1030.000000</td>\n",
       "      <td>1030.000000</td>\n",
       "    </tr>\n",
       "    <tr>\n",
       "      <th>mean</th>\n",
       "      <td>281.167864</td>\n",
       "      <td>73.895825</td>\n",
       "      <td>54.188350</td>\n",
       "      <td>181.567282</td>\n",
       "      <td>6.204660</td>\n",
       "      <td>972.918932</td>\n",
       "      <td>773.580485</td>\n",
       "      <td>45.662136</td>\n",
       "      <td>35.817961</td>\n",
       "    </tr>\n",
       "    <tr>\n",
       "      <th>std</th>\n",
       "      <td>104.506364</td>\n",
       "      <td>86.279342</td>\n",
       "      <td>63.997004</td>\n",
       "      <td>21.354219</td>\n",
       "      <td>5.973841</td>\n",
       "      <td>77.753954</td>\n",
       "      <td>80.175980</td>\n",
       "      <td>63.169912</td>\n",
       "      <td>16.705742</td>\n",
       "    </tr>\n",
       "    <tr>\n",
       "      <th>min</th>\n",
       "      <td>102.000000</td>\n",
       "      <td>0.000000</td>\n",
       "      <td>0.000000</td>\n",
       "      <td>121.800000</td>\n",
       "      <td>0.000000</td>\n",
       "      <td>801.000000</td>\n",
       "      <td>594.000000</td>\n",
       "      <td>1.000000</td>\n",
       "      <td>2.330000</td>\n",
       "    </tr>\n",
       "    <tr>\n",
       "      <th>25%</th>\n",
       "      <td>192.375000</td>\n",
       "      <td>0.000000</td>\n",
       "      <td>0.000000</td>\n",
       "      <td>164.900000</td>\n",
       "      <td>0.000000</td>\n",
       "      <td>932.000000</td>\n",
       "      <td>730.950000</td>\n",
       "      <td>7.000000</td>\n",
       "      <td>23.710000</td>\n",
       "    </tr>\n",
       "    <tr>\n",
       "      <th>50%</th>\n",
       "      <td>272.900000</td>\n",
       "      <td>22.000000</td>\n",
       "      <td>0.000000</td>\n",
       "      <td>185.000000</td>\n",
       "      <td>6.400000</td>\n",
       "      <td>968.000000</td>\n",
       "      <td>779.500000</td>\n",
       "      <td>28.000000</td>\n",
       "      <td>34.445000</td>\n",
       "    </tr>\n",
       "    <tr>\n",
       "      <th>75%</th>\n",
       "      <td>350.000000</td>\n",
       "      <td>142.950000</td>\n",
       "      <td>118.300000</td>\n",
       "      <td>192.000000</td>\n",
       "      <td>10.200000</td>\n",
       "      <td>1029.400000</td>\n",
       "      <td>824.000000</td>\n",
       "      <td>56.000000</td>\n",
       "      <td>46.135000</td>\n",
       "    </tr>\n",
       "    <tr>\n",
       "      <th>max</th>\n",
       "      <td>540.000000</td>\n",
       "      <td>359.400000</td>\n",
       "      <td>200.100000</td>\n",
       "      <td>247.000000</td>\n",
       "      <td>32.200000</td>\n",
       "      <td>1145.000000</td>\n",
       "      <td>992.600000</td>\n",
       "      <td>365.000000</td>\n",
       "      <td>82.600000</td>\n",
       "    </tr>\n",
       "  </tbody>\n",
       "</table>\n",
       "</div>"
      ],
      "text/plain": [
       "       Cement (component 1)(kg in a m^3 mixture)  \\\n",
       "count                                1030.000000   \n",
       "mean                                  281.167864   \n",
       "std                                   104.506364   \n",
       "min                                   102.000000   \n",
       "25%                                   192.375000   \n",
       "50%                                   272.900000   \n",
       "75%                                   350.000000   \n",
       "max                                   540.000000   \n",
       "\n",
       "       Blast Furnace Slag (component 2)(kg in a m^3 mixture)  \\\n",
       "count                                        1030.000000       \n",
       "mean                                           73.895825       \n",
       "std                                            86.279342       \n",
       "min                                             0.000000       \n",
       "25%                                             0.000000       \n",
       "50%                                            22.000000       \n",
       "75%                                           142.950000       \n",
       "max                                           359.400000       \n",
       "\n",
       "       Fly Ash (component 3)(kg in a m^3 mixture)  \\\n",
       "count                                 1030.000000   \n",
       "mean                                    54.188350   \n",
       "std                                     63.997004   \n",
       "min                                      0.000000   \n",
       "25%                                      0.000000   \n",
       "50%                                      0.000000   \n",
       "75%                                    118.300000   \n",
       "max                                    200.100000   \n",
       "\n",
       "       Water  (component 4)(kg in a m^3 mixture)  \\\n",
       "count                                1030.000000   \n",
       "mean                                  181.567282   \n",
       "std                                    21.354219   \n",
       "min                                   121.800000   \n",
       "25%                                   164.900000   \n",
       "50%                                   185.000000   \n",
       "75%                                   192.000000   \n",
       "max                                   247.000000   \n",
       "\n",
       "       Superplasticizer (component 5)(kg in a m^3 mixture)  \\\n",
       "count                                        1030.000000     \n",
       "mean                                            6.204660     \n",
       "std                                             5.973841     \n",
       "min                                             0.000000     \n",
       "25%                                             0.000000     \n",
       "50%                                             6.400000     \n",
       "75%                                            10.200000     \n",
       "max                                            32.200000     \n",
       "\n",
       "       Coarse Aggregate  (component 6)(kg in a m^3 mixture)  \\\n",
       "count                                        1030.000000      \n",
       "mean                                          972.918932      \n",
       "std                                            77.753954      \n",
       "min                                           801.000000      \n",
       "25%                                           932.000000      \n",
       "50%                                           968.000000      \n",
       "75%                                          1029.400000      \n",
       "max                                          1145.000000      \n",
       "\n",
       "       Fine Aggregate (component 7)(kg in a m^3 mixture)    Age (day)  \\\n",
       "count                                        1030.000000  1030.000000   \n",
       "mean                                          773.580485    45.662136   \n",
       "std                                            80.175980    63.169912   \n",
       "min                                           594.000000     1.000000   \n",
       "25%                                           730.950000     7.000000   \n",
       "50%                                           779.500000    28.000000   \n",
       "75%                                           824.000000    56.000000   \n",
       "max                                           992.600000   365.000000   \n",
       "\n",
       "       Concrete compressive strength(MPa, megapascals)   \n",
       "count                                       1030.000000  \n",
       "mean                                          35.817961  \n",
       "std                                           16.705742  \n",
       "min                                            2.330000  \n",
       "25%                                           23.710000  \n",
       "50%                                           34.445000  \n",
       "75%                                           46.135000  \n",
       "max                                           82.600000  "
      ]
     },
     "execution_count": 6,
     "metadata": {},
     "output_type": "execute_result"
    }
   ],
   "source": [
    "print('Concrete data columns with null values:\\n', concrete_df.isnull().sum())\n",
    "print(\"-\"*10)\n",
    "\n",
    "concrete_df.describe(include = 'all')"
   ]
  },
  {
   "cell_type": "code",
   "execution_count": 7,
   "metadata": {},
   "outputs": [
    {
     "data": {
      "text/html": [
       "<div>\n",
       "<style scoped>\n",
       "    .dataframe tbody tr th:only-of-type {\n",
       "        vertical-align: middle;\n",
       "    }\n",
       "\n",
       "    .dataframe tbody tr th {\n",
       "        vertical-align: top;\n",
       "    }\n",
       "\n",
       "    .dataframe thead th {\n",
       "        text-align: right;\n",
       "    }\n",
       "</style>\n",
       "<table border=\"1\" class=\"dataframe\">\n",
       "  <thead>\n",
       "    <tr style=\"text-align: right;\">\n",
       "      <th></th>\n",
       "      <th>Cement (component 1)(kg in a m^3 mixture)</th>\n",
       "      <th>Blast Furnace Slag (component 2)(kg in a m^3 mixture)</th>\n",
       "      <th>Fly Ash (component 3)(kg in a m^3 mixture)</th>\n",
       "      <th>Water  (component 4)(kg in a m^3 mixture)</th>\n",
       "      <th>Superplasticizer (component 5)(kg in a m^3 mixture)</th>\n",
       "      <th>Coarse Aggregate  (component 6)(kg in a m^3 mixture)</th>\n",
       "      <th>Fine Aggregate (component 7)(kg in a m^3 mixture)</th>\n",
       "      <th>Age (day)</th>\n",
       "      <th>Concrete compressive strength(MPa, megapascals)</th>\n",
       "    </tr>\n",
       "  </thead>\n",
       "  <tbody>\n",
       "    <tr>\n",
       "      <th>0</th>\n",
       "      <td>540.0</td>\n",
       "      <td>0.0</td>\n",
       "      <td>0.0</td>\n",
       "      <td>162.0</td>\n",
       "      <td>2.5</td>\n",
       "      <td>1040.0</td>\n",
       "      <td>676.0</td>\n",
       "      <td>28</td>\n",
       "      <td>79.99</td>\n",
       "    </tr>\n",
       "    <tr>\n",
       "      <th>1</th>\n",
       "      <td>540.0</td>\n",
       "      <td>0.0</td>\n",
       "      <td>0.0</td>\n",
       "      <td>162.0</td>\n",
       "      <td>2.5</td>\n",
       "      <td>1055.0</td>\n",
       "      <td>676.0</td>\n",
       "      <td>28</td>\n",
       "      <td>61.89</td>\n",
       "    </tr>\n",
       "    <tr>\n",
       "      <th>2</th>\n",
       "      <td>332.5</td>\n",
       "      <td>142.5</td>\n",
       "      <td>0.0</td>\n",
       "      <td>228.0</td>\n",
       "      <td>0.0</td>\n",
       "      <td>932.0</td>\n",
       "      <td>594.0</td>\n",
       "      <td>270</td>\n",
       "      <td>40.27</td>\n",
       "    </tr>\n",
       "    <tr>\n",
       "      <th>3</th>\n",
       "      <td>332.5</td>\n",
       "      <td>142.5</td>\n",
       "      <td>0.0</td>\n",
       "      <td>228.0</td>\n",
       "      <td>0.0</td>\n",
       "      <td>932.0</td>\n",
       "      <td>594.0</td>\n",
       "      <td>365</td>\n",
       "      <td>41.05</td>\n",
       "    </tr>\n",
       "    <tr>\n",
       "      <th>4</th>\n",
       "      <td>198.6</td>\n",
       "      <td>132.4</td>\n",
       "      <td>0.0</td>\n",
       "      <td>192.0</td>\n",
       "      <td>0.0</td>\n",
       "      <td>978.4</td>\n",
       "      <td>825.5</td>\n",
       "      <td>360</td>\n",
       "      <td>44.30</td>\n",
       "    </tr>\n",
       "  </tbody>\n",
       "</table>\n",
       "</div>"
      ],
      "text/plain": [
       "   Cement (component 1)(kg in a m^3 mixture)  \\\n",
       "0                                      540.0   \n",
       "1                                      540.0   \n",
       "2                                      332.5   \n",
       "3                                      332.5   \n",
       "4                                      198.6   \n",
       "\n",
       "   Blast Furnace Slag (component 2)(kg in a m^3 mixture)  \\\n",
       "0                                                0.0       \n",
       "1                                                0.0       \n",
       "2                                              142.5       \n",
       "3                                              142.5       \n",
       "4                                              132.4       \n",
       "\n",
       "   Fly Ash (component 3)(kg in a m^3 mixture)  \\\n",
       "0                                         0.0   \n",
       "1                                         0.0   \n",
       "2                                         0.0   \n",
       "3                                         0.0   \n",
       "4                                         0.0   \n",
       "\n",
       "   Water  (component 4)(kg in a m^3 mixture)  \\\n",
       "0                                      162.0   \n",
       "1                                      162.0   \n",
       "2                                      228.0   \n",
       "3                                      228.0   \n",
       "4                                      192.0   \n",
       "\n",
       "   Superplasticizer (component 5)(kg in a m^3 mixture)  \\\n",
       "0                                                2.5     \n",
       "1                                                2.5     \n",
       "2                                                0.0     \n",
       "3                                                0.0     \n",
       "4                                                0.0     \n",
       "\n",
       "   Coarse Aggregate  (component 6)(kg in a m^3 mixture)  \\\n",
       "0                                             1040.0      \n",
       "1                                             1055.0      \n",
       "2                                              932.0      \n",
       "3                                              932.0      \n",
       "4                                              978.4      \n",
       "\n",
       "   Fine Aggregate (component 7)(kg in a m^3 mixture)  Age (day)  \\\n",
       "0                                              676.0         28   \n",
       "1                                              676.0         28   \n",
       "2                                              594.0        270   \n",
       "3                                              594.0        365   \n",
       "4                                              825.5        360   \n",
       "\n",
       "   Concrete compressive strength(MPa, megapascals)   \n",
       "0                                             79.99  \n",
       "1                                             61.89  \n",
       "2                                             40.27  \n",
       "3                                             41.05  \n",
       "4                                             44.30  "
      ]
     },
     "execution_count": 7,
     "metadata": {},
     "output_type": "execute_result"
    }
   ],
   "source": [
    "concrete_df.head()"
   ]
  },
  {
   "cell_type": "code",
   "execution_count": 8,
   "metadata": {},
   "outputs": [],
   "source": [
    "dataset = concrete_df.values\n",
    "X = dataset[:,0:-1].astype(float)\n",
    "Y = dataset[:,-1]"
   ]
  },
  {
   "cell_type": "code",
   "execution_count": 9,
   "metadata": {},
   "outputs": [
    {
     "data": {
      "text/plain": [
       "array([[ 540. ,    0. ,    0. , ..., 1040. ,  676. ,   28. ],\n",
       "       [ 540. ,    0. ,    0. , ..., 1055. ,  676. ,   28. ],\n",
       "       [ 332.5,  142.5,    0. , ...,  932. ,  594. ,  270. ],\n",
       "       ...,\n",
       "       [ 148.5,  139.4,  108.6, ...,  892.4,  780. ,   28. ],\n",
       "       [ 159.1,  186.7,    0. , ...,  989.6,  788.9,   28. ],\n",
       "       [ 260.9,  100.5,   78.3, ...,  864.5,  761.5,   28. ]])"
      ]
     },
     "execution_count": 9,
     "metadata": {},
     "output_type": "execute_result"
    }
   ],
   "source": [
    "X"
   ]
  },
  {
   "cell_type": "code",
   "execution_count": 10,
   "metadata": {},
   "outputs": [
    {
     "data": {
      "text/plain": [
       "array([79.99, 61.89, 40.27, ..., 23.7 , 32.77, 32.4 ])"
      ]
     },
     "execution_count": 10,
     "metadata": {},
     "output_type": "execute_result"
    }
   ],
   "source": [
    "Y"
   ]
  },
  {
   "cell_type": "code",
   "execution_count": 11,
   "metadata": {},
   "outputs": [],
   "source": [
    "seed=7\n",
    "num_epochs = 100\n",
    "num_batch = 320\n",
    "#encoded_Y"
   ]
  },
  {
   "cell_type": "markdown",
   "metadata": {},
   "source": [
    "# 3. Split into 50% Training(Samples,Labels) , 30% Test(Samples,Labels) and 20% Validation Data(Samples,Labels)."
   ]
  },
  {
   "cell_type": "code",
   "execution_count": 12,
   "metadata": {},
   "outputs": [],
   "source": [
    "X_train,X_test,y_train,y_test = train_test_split(X,\n",
    "                                                 Y,\n",
    "                                                 test_size=0.30,\n",
    "                                                 random_state=seed)"
   ]
  },
  {
   "cell_type": "code",
   "execution_count": 13,
   "metadata": {},
   "outputs": [],
   "source": [
    "sc = StandardScaler()\n",
    "#encoded_Y = label.fit_transform(Y.reshape(1, -1)).reshape(1, -1)\n",
    "#encoded_Y = Y/np.amax(Y)\n",
    "X_train = sc.fit_transform(X_train)\n",
    "X_test = sc.transform(X_test)"
   ]
  },
  {
   "cell_type": "code",
   "execution_count": 14,
   "metadata": {},
   "outputs": [],
   "source": [
    "#Defining Root Mean Square Error As our Metric Function \n",
    "def rmse(y_true, y_pred):\n",
    "    return backend.sqrt(backend.mean(backend.square(y_pred - y_true), axis=-1))"
   ]
  },
  {
   "cell_type": "markdown",
   "metadata": {},
   "source": [
    "# 4. Model : input Layer (No. of features ), 3 hidden layers including 10,8,6 unit & Output Layer with activation function relu/tanh (check by experiment)."
   ]
  },
  {
   "cell_type": "markdown",
   "metadata": {},
   "source": [
    "# 5.Compilation Step (Note : Its a Regression problem , select loss , metrics according to it)"
   ]
  },
  {
   "cell_type": "code",
   "execution_count": 21,
   "metadata": {},
   "outputs": [],
   "source": [
    "def create_model():\n",
    "    # create model\n",
    "    model = Sequential()\n",
    "    model.add(Dense(10, activation='relu', input_dim=X_train.shape[1]))\n",
    "    model.add(BatchNormalization())\n",
    "    model.add(Dense(8, activation='relu'))\n",
    "    model.add(BatchNormalization())\n",
    "    model.add(Dense(6, activation='relu'))\n",
    "    model.add(BatchNormalization())\n",
    "    model.add(Dense(1, activation='linear'))\n",
    "    # Optimize , Compile And Train The Model \n",
    "    opt =Adam(lr=0.0015)\n",
    "    model.compile(optimizer = opt,#\n",
    "              loss='mean_squared_error',\n",
    "              metrics=[rmse])\n",
    "    return model"
   ]
  },
  {
   "cell_type": "code",
   "execution_count": 22,
   "metadata": {
    "scrolled": true
   },
   "outputs": [
    {
     "name": "stdout",
     "output_type": "stream",
     "text": [
      "Model: \"sequential_1\"\n",
      "_________________________________________________________________\n",
      "Layer (type)                 Output Shape              Param #   \n",
      "=================================================================\n",
      "dense_4 (Dense)              (None, 10)                90        \n",
      "_________________________________________________________________\n",
      "batch_normalization_1 (Batch (None, 10)                40        \n",
      "_________________________________________________________________\n",
      "dense_5 (Dense)              (None, 8)                 88        \n",
      "_________________________________________________________________\n",
      "batch_normalization_2 (Batch (None, 8)                 32        \n",
      "_________________________________________________________________\n",
      "dense_6 (Dense)              (None, 6)                 54        \n",
      "_________________________________________________________________\n",
      "batch_normalization_3 (Batch (None, 6)                 24        \n",
      "_________________________________________________________________\n",
      "dense_7 (Dense)              (None, 1)                 7         \n",
      "=================================================================\n",
      "Total params: 335\n",
      "Trainable params: 287\n",
      "Non-trainable params: 48\n",
      "_________________________________________________________________\n"
     ]
    }
   ],
   "source": [
    "model=create_model()\n",
    "model.summary()"
   ]
  },
  {
   "cell_type": "markdown",
   "metadata": {},
   "source": [
    "# 6. Train the Model with Epochs (100) and validate it"
   ]
  },
  {
   "cell_type": "markdown",
   "metadata": {},
   "source": [
    "# 7. If the model gets overfit tune your model by changing the units , No. of layers , activation function , epochs , add dropout layer or add Regularizer according to the need ."
   ]
  },
  {
   "cell_type": "code",
   "execution_count": 23,
   "metadata": {
    "scrolled": false
   },
   "outputs": [
    {
     "name": "stdout",
     "output_type": "stream",
     "text": [
      "WARNING:tensorflow:The `nb_epoch` argument in `fit` has been renamed `epochs`.\n",
      "Train on 576 samples, validate on 145 samples\n",
      "Epoch 1/100\n",
      "576/576 - 3s - loss: 1574.1859 - rmse: 36.0907 - val_loss: 1575.6925 - val_rmse: 35.8406\n",
      "Epoch 2/100\n",
      "576/576 - 0s - loss: 1571.9946 - rmse: 36.0790 - val_loss: 1575.1494 - val_rmse: 35.8339\n",
      "Epoch 3/100\n",
      "576/576 - 0s - loss: 1569.9619 - rmse: 36.0673 - val_loss: 1574.4380 - val_rmse: 35.8252\n",
      "Epoch 4/100\n",
      "576/576 - 0s - loss: 1567.7366 - rmse: 36.0555 - val_loss: 1573.6921 - val_rmse: 35.8162\n",
      "Epoch 5/100\n",
      "576/576 - 0s - loss: 1565.6823 - rmse: 36.0437 - val_loss: 1572.8994 - val_rmse: 35.8066\n",
      "Epoch 6/100\n",
      "576/576 - 0s - loss: 1563.3604 - rmse: 36.0317 - val_loss: 1572.0057 - val_rmse: 35.7958\n",
      "Epoch 7/100\n",
      "576/576 - 0s - loss: 1561.4311 - rmse: 36.0196 - val_loss: 1571.1304 - val_rmse: 35.7854\n",
      "Epoch 8/100\n",
      "576/576 - 0s - loss: 1559.2566 - rmse: 36.0074 - val_loss: 1570.2802 - val_rmse: 35.7755\n",
      "Epoch 9/100\n",
      "576/576 - 0s - loss: 1556.9133 - rmse: 35.9950 - val_loss: 1569.3975 - val_rmse: 35.7655\n",
      "Epoch 10/100\n",
      "576/576 - 0s - loss: 1554.8875 - rmse: 35.9825 - val_loss: 1568.4674 - val_rmse: 35.7551\n",
      "Epoch 11/100\n",
      "576/576 - 0s - loss: 1552.6256 - rmse: 35.9699 - val_loss: 1567.5145 - val_rmse: 35.7446\n",
      "Epoch 12/100\n",
      "576/576 - 0s - loss: 1550.7576 - rmse: 35.9571 - val_loss: 1566.5352 - val_rmse: 35.7342\n",
      "Epoch 13/100\n",
      "576/576 - 0s - loss: 1547.9431 - rmse: 35.9442 - val_loss: 1565.5664 - val_rmse: 35.7242\n",
      "Epoch 14/100\n",
      "576/576 - 0s - loss: 1545.1836 - rmse: 35.9311 - val_loss: 1564.5656 - val_rmse: 35.7141\n",
      "Epoch 15/100\n",
      "576/576 - 0s - loss: 1542.9302 - rmse: 35.9178 - val_loss: 1563.5995 - val_rmse: 35.7047\n",
      "Epoch 16/100\n",
      "576/576 - 0s - loss: 1540.2487 - rmse: 35.9044 - val_loss: 1562.6309 - val_rmse: 35.6957\n",
      "Epoch 17/100\n",
      "576/576 - 0s - loss: 1537.9775 - rmse: 35.8908 - val_loss: 1561.6326 - val_rmse: 35.6867\n",
      "Epoch 18/100\n",
      "576/576 - 0s - loss: 1535.4002 - rmse: 35.8771 - val_loss: 1560.5763 - val_rmse: 35.6772\n",
      "Epoch 19/100\n",
      "576/576 - 0s - loss: 1532.5681 - rmse: 35.8631 - val_loss: 1559.4637 - val_rmse: 35.6673\n",
      "Epoch 20/100\n",
      "576/576 - 0s - loss: 1530.0209 - rmse: 35.8490 - val_loss: 1558.2946 - val_rmse: 35.6572\n",
      "Epoch 21/100\n",
      "576/576 - 0s - loss: 1527.8902 - rmse: 35.8347 - val_loss: 1557.1155 - val_rmse: 35.6475\n",
      "Epoch 22/100\n",
      "576/576 - 0s - loss: 1524.9776 - rmse: 35.8203 - val_loss: 1555.8763 - val_rmse: 35.6375\n",
      "Epoch 23/100\n",
      "576/576 - 0s - loss: 1522.1408 - rmse: 35.8056 - val_loss: 1554.6106 - val_rmse: 35.6274\n",
      "Epoch 24/100\n",
      "576/576 - 0s - loss: 1519.8236 - rmse: 35.7907 - val_loss: 1553.2744 - val_rmse: 35.6167\n",
      "Epoch 25/100\n",
      "576/576 - 0s - loss: 1517.0770 - rmse: 35.7756 - val_loss: 1551.7980 - val_rmse: 35.6048\n",
      "Epoch 26/100\n",
      "576/576 - 0s - loss: 1514.7068 - rmse: 35.7604 - val_loss: 1550.2731 - val_rmse: 35.5924\n",
      "Epoch 27/100\n",
      "576/576 - 0s - loss: 1512.6480 - rmse: 35.7449 - val_loss: 1548.6548 - val_rmse: 35.5795\n",
      "Epoch 28/100\n",
      "576/576 - 0s - loss: 1509.7789 - rmse: 35.7293 - val_loss: 1546.8835 - val_rmse: 35.5656\n",
      "Epoch 29/100\n",
      "576/576 - 0s - loss: 1507.1655 - rmse: 35.7134 - val_loss: 1545.0056 - val_rmse: 35.5506\n",
      "Epoch 30/100\n",
      "576/576 - 0s - loss: 1504.4014 - rmse: 35.6973 - val_loss: 1542.9781 - val_rmse: 35.5343\n",
      "Epoch 31/100\n",
      "576/576 - 0s - loss: 1501.8861 - rmse: 35.6811 - val_loss: 1540.7898 - val_rmse: 35.5160\n",
      "Epoch 32/100\n",
      "576/576 - 0s - loss: 1499.5124 - rmse: 35.6647 - val_loss: 1538.4727 - val_rmse: 35.4969\n",
      "Epoch 33/100\n",
      "576/576 - 0s - loss: 1497.0415 - rmse: 35.6480 - val_loss: 1535.9268 - val_rmse: 35.4758\n",
      "Epoch 34/100\n",
      "576/576 - 0s - loss: 1494.4622 - rmse: 35.6312 - val_loss: 1533.2653 - val_rmse: 35.4535\n",
      "Epoch 35/100\n",
      "576/576 - 0s - loss: 1491.9587 - rmse: 35.6141 - val_loss: 1530.3672 - val_rmse: 35.4285\n",
      "Epoch 36/100\n",
      "576/576 - 0s - loss: 1489.6709 - rmse: 35.5968 - val_loss: 1527.3541 - val_rmse: 35.4024\n",
      "Epoch 37/100\n",
      "576/576 - 0s - loss: 1487.0249 - rmse: 35.5793 - val_loss: 1524.2242 - val_rmse: 35.3752\n",
      "Epoch 38/100\n",
      "576/576 - 0s - loss: 1484.4121 - rmse: 35.5616 - val_loss: 1520.8845 - val_rmse: 35.3459\n",
      "Epoch 39/100\n",
      "576/576 - 0s - loss: 1481.9765 - rmse: 35.5438 - val_loss: 1517.3420 - val_rmse: 35.3144\n",
      "Epoch 40/100\n",
      "576/576 - 0s - loss: 1479.6300 - rmse: 35.5257 - val_loss: 1513.6224 - val_rmse: 35.2812\n",
      "Epoch 41/100\n",
      "576/576 - 0s - loss: 1478.4885 - rmse: 35.5074 - val_loss: 1509.7219 - val_rmse: 35.2462\n",
      "Epoch 42/100\n",
      "576/576 - 0s - loss: 1475.1133 - rmse: 35.4889 - val_loss: 1505.6415 - val_rmse: 35.2088\n",
      "Epoch 43/100\n",
      "576/576 - 0s - loss: 1471.8830 - rmse: 35.4703 - val_loss: 1501.5115 - val_rmse: 35.1708\n",
      "Epoch 44/100\n",
      "576/576 - 0s - loss: 1469.6415 - rmse: 35.4514 - val_loss: 1497.1852 - val_rmse: 35.1304\n",
      "Epoch 45/100\n",
      "576/576 - 0s - loss: 1466.9336 - rmse: 35.4324 - val_loss: 1492.6681 - val_rmse: 35.0881\n",
      "Epoch 46/100\n",
      "576/576 - 0s - loss: 1464.7612 - rmse: 35.4131 - val_loss: 1487.9896 - val_rmse: 35.0437\n",
      "Epoch 47/100\n",
      "576/576 - 0s - loss: 1462.0738 - rmse: 35.3936 - val_loss: 1483.2759 - val_rmse: 34.9990\n",
      "Epoch 48/100\n",
      "576/576 - 0s - loss: 1458.9515 - rmse: 35.3739 - val_loss: 1478.3698 - val_rmse: 34.9510\n",
      "Epoch 49/100\n",
      "576/576 - 0s - loss: 1456.8117 - rmse: 35.3540 - val_loss: 1473.3636 - val_rmse: 34.9016\n",
      "Epoch 50/100\n",
      "576/576 - 0s - loss: 1454.0264 - rmse: 35.3339 - val_loss: 1468.4039 - val_rmse: 34.8524\n",
      "Epoch 51/100\n",
      "576/576 - 0s - loss: 1451.4997 - rmse: 35.3136 - val_loss: 1463.3314 - val_rmse: 34.8018\n",
      "Epoch 52/100\n",
      "576/576 - 0s - loss: 1448.8161 - rmse: 35.2930 - val_loss: 1457.9410 - val_rmse: 34.7469\n",
      "Epoch 53/100\n",
      "576/576 - 0s - loss: 1446.3460 - rmse: 35.2723 - val_loss: 1452.5131 - val_rmse: 34.6912\n",
      "Epoch 54/100\n",
      "576/576 - 0s - loss: 1443.5144 - rmse: 35.2513 - val_loss: 1447.0151 - val_rmse: 34.6349\n",
      "Epoch 55/100\n",
      "576/576 - 0s - loss: 1440.5216 - rmse: 35.2302 - val_loss: 1441.6021 - val_rmse: 34.5792\n",
      "Epoch 56/100\n",
      "576/576 - 0s - loss: 1437.8229 - rmse: 35.2088 - val_loss: 1436.1075 - val_rmse: 34.5230\n",
      "Epoch 57/100\n",
      "576/576 - 0s - loss: 1436.3565 - rmse: 35.1872 - val_loss: 1430.4867 - val_rmse: 34.4654\n",
      "Epoch 58/100\n",
      "576/576 - 0s - loss: 1432.1914 - rmse: 35.1654 - val_loss: 1424.6672 - val_rmse: 34.4055\n",
      "Epoch 59/100\n",
      "576/576 - 0s - loss: 1428.2819 - rmse: 35.1433 - val_loss: 1419.0288 - val_rmse: 34.3476\n",
      "Epoch 60/100\n",
      "576/576 - 0s - loss: 1426.7966 - rmse: 35.1211 - val_loss: 1413.2303 - val_rmse: 34.2885\n",
      "Epoch 61/100\n",
      "576/576 - 0s - loss: 1423.3395 - rmse: 35.0986 - val_loss: 1407.5446 - val_rmse: 34.2305\n",
      "Epoch 62/100\n",
      "576/576 - 0s - loss: 1420.4159 - rmse: 35.0759 - val_loss: 1401.8557 - val_rmse: 34.1721\n",
      "Epoch 63/100\n",
      "576/576 - 0s - loss: 1417.3399 - rmse: 35.0530 - val_loss: 1396.1383 - val_rmse: 34.1133\n",
      "Epoch 64/100\n",
      "576/576 - 0s - loss: 1414.5514 - rmse: 35.0299 - val_loss: 1390.2986 - val_rmse: 34.0529\n",
      "Epoch 65/100\n",
      "576/576 - 0s - loss: 1411.8992 - rmse: 35.0066 - val_loss: 1384.6271 - val_rmse: 33.9944\n",
      "Epoch 66/100\n",
      "576/576 - 0s - loss: 1408.4375 - rmse: 34.9831 - val_loss: 1378.9562 - val_rmse: 33.9354\n",
      "Epoch 67/100\n",
      "576/576 - 0s - loss: 1405.4938 - rmse: 34.9593 - val_loss: 1373.2555 - val_rmse: 33.8761\n",
      "Epoch 68/100\n",
      "576/576 - 0s - loss: 1401.8644 - rmse: 34.9353 - val_loss: 1367.6831 - val_rmse: 33.8183\n",
      "Epoch 69/100\n",
      "576/576 - 0s - loss: 1399.5243 - rmse: 34.9111 - val_loss: 1362.2456 - val_rmse: 33.7627\n",
      "Epoch 70/100\n",
      "576/576 - 0s - loss: 1396.1549 - rmse: 34.8867 - val_loss: 1356.6488 - val_rmse: 33.7039\n",
      "Epoch 71/100\n",
      "576/576 - 0s - loss: 1392.4917 - rmse: 34.8621 - val_loss: 1351.2106 - val_rmse: 33.6474\n",
      "Epoch 72/100\n",
      "576/576 - 0s - loss: 1389.6149 - rmse: 34.8372 - val_loss: 1345.8167 - val_rmse: 33.5904\n",
      "Epoch 73/100\n",
      "576/576 - 0s - loss: 1386.8728 - rmse: 34.8122 - val_loss: 1340.2467 - val_rmse: 33.5305\n",
      "Epoch 74/100\n",
      "576/576 - 0s - loss: 1383.6538 - rmse: 34.7869 - val_loss: 1334.9664 - val_rmse: 33.4752\n",
      "Epoch 75/100\n",
      "576/576 - 0s - loss: 1380.4601 - rmse: 34.7615 - val_loss: 1329.7820 - val_rmse: 33.4193\n",
      "Epoch 76/100\n",
      "576/576 - 0s - loss: 1377.2391 - rmse: 34.7357 - val_loss: 1324.3552 - val_rmse: 33.3616\n",
      "Epoch 77/100\n",
      "576/576 - 0s - loss: 1374.6472 - rmse: 34.7098 - val_loss: 1318.9380 - val_rmse: 33.3028\n",
      "Epoch 78/100\n",
      "576/576 - 0s - loss: 1370.9520 - rmse: 34.6837 - val_loss: 1313.3221 - val_rmse: 33.2413\n",
      "Epoch 79/100\n",
      "576/576 - 0s - loss: 1368.3257 - rmse: 34.6574 - val_loss: 1307.5245 - val_rmse: 33.1769\n",
      "Epoch 80/100\n",
      "576/576 - 0s - loss: 1364.6697 - rmse: 34.6308 - val_loss: 1301.5826 - val_rmse: 33.1108\n"
     ]
    },
    {
     "name": "stdout",
     "output_type": "stream",
     "text": [
      "Epoch 81/100\n",
      "576/576 - 0s - loss: 1361.3940 - rmse: 34.6040 - val_loss: 1295.7131 - val_rmse: 33.0454\n",
      "Epoch 82/100\n",
      "576/576 - 0s - loss: 1358.6932 - rmse: 34.5770 - val_loss: 1289.8413 - val_rmse: 32.9794\n",
      "Epoch 83/100\n",
      "576/576 - 0s - loss: 1355.5077 - rmse: 34.5498 - val_loss: 1283.7979 - val_rmse: 32.9112\n",
      "Epoch 84/100\n",
      "576/576 - 0s - loss: 1352.3166 - rmse: 34.5224 - val_loss: 1278.1604 - val_rmse: 32.8470\n",
      "Epoch 85/100\n",
      "576/576 - 0s - loss: 1349.1568 - rmse: 34.4947 - val_loss: 1272.4598 - val_rmse: 32.7826\n",
      "Epoch 86/100\n",
      "576/576 - 0s - loss: 1345.9355 - rmse: 34.4668 - val_loss: 1267.0806 - val_rmse: 32.7226\n",
      "Epoch 87/100\n",
      "576/576 - 0s - loss: 1342.8070 - rmse: 34.4387 - val_loss: 1261.7048 - val_rmse: 32.6638\n",
      "Epoch 88/100\n",
      "576/576 - 0s - loss: 1339.6577 - rmse: 34.4104 - val_loss: 1256.5387 - val_rmse: 32.6082\n",
      "Epoch 89/100\n",
      "576/576 - 0s - loss: 1336.4173 - rmse: 34.3819 - val_loss: 1251.4302 - val_rmse: 32.5520\n",
      "Epoch 90/100\n",
      "576/576 - 0s - loss: 1333.8780 - rmse: 34.3533 - val_loss: 1246.2157 - val_rmse: 32.4953\n",
      "Epoch 91/100\n",
      "576/576 - 0s - loss: 1330.6696 - rmse: 34.3243 - val_loss: 1240.6168 - val_rmse: 32.4349\n",
      "Epoch 92/100\n",
      "576/576 - 0s - loss: 1326.7894 - rmse: 34.2952 - val_loss: 1234.9607 - val_rmse: 32.3733\n",
      "Epoch 93/100\n",
      "576/576 - 0s - loss: 1323.6090 - rmse: 34.2658 - val_loss: 1228.9655 - val_rmse: 32.3066\n",
      "Epoch 94/100\n",
      "576/576 - 0s - loss: 1320.7109 - rmse: 34.2362 - val_loss: 1223.1611 - val_rmse: 32.2407\n",
      "Epoch 95/100\n",
      "576/576 - 0s - loss: 1317.2655 - rmse: 34.2064 - val_loss: 1217.9153 - val_rmse: 32.1828\n",
      "Epoch 96/100\n",
      "576/576 - 0s - loss: 1314.1760 - rmse: 34.1764 - val_loss: 1212.2469 - val_rmse: 32.1179\n",
      "Epoch 97/100\n",
      "576/576 - 0s - loss: 1311.2616 - rmse: 34.1462 - val_loss: 1206.3732 - val_rmse: 32.0500\n",
      "Epoch 98/100\n",
      "576/576 - 0s - loss: 1307.1885 - rmse: 34.1157 - val_loss: 1200.1890 - val_rmse: 31.9779\n",
      "Epoch 99/100\n",
      "576/576 - 0s - loss: 1303.7798 - rmse: 34.0851 - val_loss: 1194.2123 - val_rmse: 31.9082\n",
      "Epoch 100/100\n",
      "576/576 - 0s - loss: 1300.9920 - rmse: 34.0542 - val_loss: 1188.0029 - val_rmse: 31.8356\n"
     ]
    }
   ],
   "source": [
    "history= model.fit(X_train,y_train,verbose=2,shuffle=True,nb_epoch=num_epochs,batch_size=num_batch,validation_split=0.2)"
   ]
  },
  {
   "cell_type": "markdown",
   "metadata": {},
   "source": [
    "# 8.Evaluation Step"
   ]
  },
  {
   "cell_type": "code",
   "execution_count": 24,
   "metadata": {},
   "outputs": [
    {
     "name": "stdout",
     "output_type": "stream",
     "text": [
      "309/309 - 0s - loss: 1134.2280 - rmse: 31.2787\n"
     ]
    },
    {
     "data": {
      "text/plain": [
       "[1134.2280012704794, 31.27872]"
      ]
     },
     "execution_count": 24,
     "metadata": {},
     "output_type": "execute_result"
    }
   ],
   "source": [
    "test_error_rate = model.evaluate(X_test, y_test, verbose=2)\n",
    "test_error_rate"
   ]
  },
  {
   "cell_type": "markdown",
   "metadata": {},
   "source": [
    "# 9. Prediction"
   ]
  },
  {
   "cell_type": "code",
   "execution_count": 25,
   "metadata": {},
   "outputs": [
    {
     "name": "stdout",
     "output_type": "stream",
     "text": [
      "-3.164915547684462\n"
     ]
    }
   ],
   "source": [
    "# Predicting and Finding R Squared Score\n",
    "\n",
    "y_predict = model.predict(X_test)\n",
    "\n",
    "print(r2_score(y_test,y_predict))"
   ]
  },
  {
   "cell_type": "code",
   "execution_count": 26,
   "metadata": {},
   "outputs": [
    {
     "data": {
      "image/png": "[encoded data removed]",
      "text/plain": [
       "<Figure size 432x288 with 1 Axes>"
      ]
     },
     "metadata": {
      "needs_background": "light"
     },
     "output_type": "display_data"
    },
    {
     "data": {
      "image/png": "[encoded data removed]",
      "text/plain": [
       "<Figure size 432x288 with 1 Axes>"
      ]
     },
     "metadata": {
      "needs_background": "light"
     },
     "output_type": "display_data"
    }
   ],
   "source": [
    "# Plotting Loss And Root Mean Square Error For both Training And Test Sets\n",
    "plt.plot(history.history['rmse'])\n",
    "plt.plot(history.history['val_rmse'])\n",
    "plt.title('Root Mean Squared Error')\n",
    "plt.ylabel('rmse')\n",
    "plt.xlabel('epoch')\n",
    "plt.legend(['train', 'test'], loc='upper left')\n",
    "plt.show()\n",
    "# summarize history for loss\n",
    "plt.plot(history.history['loss'])\n",
    "plt.plot(history.history['val_loss'])\n",
    "plt.title('model loss')\n",
    "plt.ylabel('loss')\n",
    "plt.xlabel('epoch')\n",
    "plt.legend(['train', 'test'], loc='upper left')\n",
    "plt.savefig('4.png')\n",
    "plt.show()"
   ]
  },
  {
   "cell_type": "code",
   "execution_count": null,
   "metadata": {},
   "outputs": [],
   "source": []
  }
 ],
 "metadata": {
  "kernelspec": {
   "display_name": "Python [conda env:root] *",
   "language": "python",
   "name": "conda-root-py"
  },
  "language_info": {
   "codemirror_mode": {
    "name": "ipython",
    "version": 3
   },
   "file_extension": ".py",
   "mimetype": "text/x-python",
   "name": "python",
   "nbconvert_exporter": "python",
   "pygments_lexer": "ipython3",
   "version": "3.7.3"
  }
 },
 "nbformat": 4,
 "nbformat_minor": 2
}
